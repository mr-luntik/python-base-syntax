{
 "cells": [
  {
   "cell_type": "markdown",
   "metadata": {},
   "source": [
    "# Навигация\n",
    "* [Типы данных](#Типы-данных,-логические-операции-и-условные-операторы)\n",
    "    * [Целочисленные (integer)]()\n",
    "        * [Операции с целыми числами](#Операции-с-целыми-числами.)\n",
    "            * [Основные арифметические операции](#Основные-арифметические-операции)\n",
    "    * [С плавающей точкой (float)]()\n",
    "    * [Строковые (string)]()\n",
    "    * [Логические (boolean)]()\n",
    "* [Ввод и вывод данных](#Ввод-и-вывод-данных)"
   ]
  },
  {
   "cell_type": "markdown",
   "metadata": {},
   "source": [
    "# Ввод и вывод данных\n",
    "[↑ вернуться к оглавлению](#Навигация)\n",
    "\n",
    "Данные в питоне можно вводить при помощи **input()**, а выводить при помощи **print()**.\n",
    "\n",
    "Важно! **input()** всегда возвращает строку (**str**, об этом ниже)."
   ]
  },
  {
   "cell_type": "code",
   "execution_count": 165,
   "metadata": {},
   "outputs": [
    {
     "name": "stdout",
     "output_type": "stream",
     "text": [
      "введи значение a: 5\n"
     ]
    }
   ],
   "source": [
    "a = input('введи значение a: ') # если ничего не указать в скобках, то будет просто строка ввода"
   ]
  },
  {
   "cell_type": "code",
   "execution_count": 153,
   "metadata": {},
   "outputs": [
    {
     "name": "stdout",
     "output_type": "stream",
     "text": [
      "а = 5\n"
     ]
    }
   ],
   "source": [
    "print('а =', a)"
   ]
  },
  {
   "cell_type": "code",
   "execution_count": 159,
   "metadata": {},
   "outputs": [
    {
     "name": "stdout",
     "output_type": "stream",
     "text": [
      "555 слонов топнули 5 раз \n"
     ]
    }
   ],
   "source": [
    "print(a + a + a + ' слонов топнули ' + a + ' раз ')"
   ]
  },
  {
   "cell_type": "code",
   "execution_count": 160,
   "metadata": {},
   "outputs": [
    {
     "name": "stdout",
     "output_type": "stream",
     "text": [
      "5 5 5 слонов топнули 5 раз\n"
     ]
    }
   ],
   "source": [
    "print(a, a, a, 'слонов топнули', a, 'раз')"
   ]
  },
  {
   "cell_type": "markdown",
   "metadata": {},
   "source": [
    "Перенести текст на новую строку можно при помощи **\\n**"
   ]
  },
  {
   "cell_type": "code",
   "execution_count": 163,
   "metadata": {
    "scrolled": true
   },
   "outputs": [
    {
     "name": "stdout",
     "output_type": "stream",
     "text": [
      "55\n",
      "5 слонов топнули \n",
      "5 \n",
      "раз \n"
     ]
    }
   ],
   "source": [
    "print(a + a + '\\n' + a + ' слонов топнули \\n' + a + ' \\nраз ')"
   ]
  },
  {
   "cell_type": "markdown",
   "metadata": {},
   "source": [
    "___\n",
    "## Операции с целыми числами. \n",
    "[↑ вернуться к оглавлению](#Навигация)\n",
    "\n",
    "### Основные арифметические операции\n",
    "[↑ вернуться к оглавлению](#Навигация)"
   ]
  },
  {
   "cell_type": "code",
   "execution_count": 93,
   "metadata": {},
   "outputs": [
    {
     "name": "stdout",
     "output_type": "stream",
     "text": [
      "a = 12345554321 тип <class 'int'>\n",
      "b = 1122222 тип <class 'int'>\n",
      "c = -1100000 тип <class 'int'>\n",
      "d = 0.0099999009999901 тип <class 'float'>\n"
     ]
    }
   ],
   "source": [
    "# Всё стандартно + - * /\n",
    "\n",
    "a = 11111 * 1111111\n",
    "print('a =', a, 'тип', type(a))\n",
    "\n",
    "b = 11111 + 1111111\n",
    "print('b =', b, 'тип', type(b))\n",
    "\n",
    "c = 11111 - 1111111\n",
    "print('c =', c, 'тип', type(c))\n",
    "\n",
    "d = 11111 / 1111111\n",
    "print('d =', d, 'тип', type(d))"
   ]
  },
  {
   "cell_type": "markdown",
   "metadata": {},
   "source": [
    "### Несколько слов о делении\n",
    "[↑ вернуться к оглавлению](#Навигация)"
   ]
  },
  {
   "cell_type": "code",
   "execution_count": 95,
   "metadata": {},
   "outputs": [
    {
     "name": "stdout",
     "output_type": "stream",
     "text": [
      "23 <class 'int'>\n"
     ]
    }
   ],
   "source": [
    "# Целочисленное деление выполняется с помощью //, получим int \n",
    "a = 239 // 10\n",
    "print(a, type(a))"
   ]
  },
  {
   "cell_type": "code",
   "execution_count": 96,
   "metadata": {},
   "outputs": [
    {
     "name": "stdout",
     "output_type": "stream",
     "text": [
      "10.0 <class 'float'>\n"
     ]
    }
   ],
   "source": [
    "# Вещественное деление выполняется с помощью /, получим float\n",
    "a = 100 / 10\n",
    "print(a, type(a))"
   ]
  },
  {
   "cell_type": "code",
   "execution_count": 98,
   "metadata": {},
   "outputs": [
    {
     "name": "stdout",
     "output_type": "stream",
     "text": [
      "9 <class 'int'>\n"
     ]
    }
   ],
   "source": [
    "# Целочисленный остаток от деления выполняется с помощью %, получим int\n",
    "a = 239 % 10\n",
    "print(a, type(a))"
   ]
  },
  {
   "cell_type": "markdown",
   "metadata": {},
   "source": [
    "### Возведение в степень\n",
    "[↑ вернуться к оглавлению](#Навигация)"
   ]
  },
  {
   "cell_type": "code",
   "execution_count": 92,
   "metadata": {
    "scrolled": true
   },
   "outputs": [
    {
     "name": "stdout",
     "output_type": "stream",
     "text": [
      "625 <class 'int'>\n"
     ]
    }
   ],
   "source": [
    "# Возведение в степень выполняется с помощью **\n",
    "a = 5**4\n",
    "print(a, type(a))"
   ]
  },
  {
   "cell_type": "markdown",
   "metadata": {},
   "source": [
    "### Извлечение квадратного корня\n",
    "[↑ вернуться к оглавлению](#Навигация)"
   ]
  },
  {
   "cell_type": "code",
   "execution_count": 7,
   "metadata": {},
   "outputs": [
    {
     "name": "stdout",
     "output_type": "stream",
     "text": [
      "медленно, но через встроенную функцию \n",
      "a = 3.0 \n",
      "быстрее, но нативно \n",
      "b = 3.0 \n",
      "самый быстрый способ, но придётся импортировать math \n",
      "c = 3.0\n"
     ]
    }
   ],
   "source": [
    "a = pow(9, .5)\n",
    "b = 9**.5\n",
    "\n",
    "import math\n",
    "c = math.sqrt(9)\n",
    "\n",
    "print('медленно, но через встроенную функцию \\na =', \n",
    "      a, \n",
    "      '\\nбыстрее, но нативно \\nb =', \n",
    "      b, \n",
    "      '\\nсамый быстрый способ, но придётся импортировать math \\nc =', \n",
    "      c)\n"
   ]
  },
  {
   "cell_type": "markdown",
   "metadata": {},
   "source": [
    "### Запись чисел, типа 5Е-2\n",
    "[↑ вернуться к оглавлению](#Навигация)"
   ]
  },
  {
   "cell_type": "code",
   "execution_count": 87,
   "metadata": {},
   "outputs": [
    {
     "name": "stdout",
     "output_type": "stream",
     "text": [
      "a = 0.5 тип <class 'float'> \n",
      "b = 5000.0 тип <class 'float'> \n",
      "с = 0.0012345 тип <class 'float'>\n"
     ]
    }
   ],
   "source": [
    "a = 5e-1 # 5 умножить на 10 в степени -1\n",
    "b = 5e+3 # 5 умножить на 10 в степени 3\n",
    "c = 1.2345e-3\n",
    "print('a =', a, 'тип' ,type(a), '\\nb =', b, 'тип',type(b), '\\nс =', c, 'тип',type(c))"
   ]
  },
  {
   "cell_type": "markdown",
   "metadata": {},
   "source": [
    "## Операторы приращения\n",
    "[↑ вернуться к оглавлению](#Навигация)\n",
    "\n",
    "В питоне существуют такие операторы, как:\n",
    "* += - прибавить к числу (аналог инкремента);\n",
    "* -= - вычесть из числа;\n",
    "* \\*= - умножить на;\n",
    "* /= - вещественное деление;\n",
    "* //= - целочисленное деление;\n",
    "* %= - остаток от деления;\n",
    "* \\*\\*= возведение в степень.\n",
    "\n",
    "Примеры:"
   ]
  },
  {
   "cell_type": "code",
   "execution_count": 151,
   "metadata": {},
   "outputs": [
    {
     "name": "stdout",
     "output_type": "stream",
     "text": [
      "начальное число а = 5\n",
      "a += 1, ровняется - 6\n",
      "a -= 1, ровняется - 5\n",
      "a *= 10, ровняется - 50\n",
      "a /= 2, ровняется - 25.0\n",
      "a //= 5, ровняется - 5.0\n",
      "a %= 2, ровняется - 1.0\n",
      "a *= 2, ровняется - 1.0\n"
     ]
    }
   ],
   "source": [
    "a = 5\n",
    "print('начальное число а =', a)\n",
    "\n",
    "a += 1 # а + 1 (a = 5)\n",
    "print('a += 1, ровняется -', a)\n",
    "\n",
    "a -= 1 # a - 1 (a = 6)\n",
    "print('a -= 1, ровняется -', a)\n",
    "\n",
    "a *= 10 # a * 10 (a = 5)\n",
    "print('a *= 10, ровняется -', a)\n",
    "\n",
    "a /= 2 # a / 2 (a = 50)\n",
    "print('a /= 2, ровняется -', a)\n",
    "\n",
    "a //= 5 # a // 5 (a = 25, и так как мы умножаем int на float результат автоматически будет float)\n",
    "print('a //= 5, ровняется -', a)\n",
    "\n",
    "a %= 2 # отстаток от деления на 2 (a = 5)\n",
    "print('a %= 2, ровняется -', a)\n",
    "\n",
    "a **=2 # a в степени 2 (a = 1)\n",
    "print('a *= 2, ровняется -', a)"
   ]
  },
  {
   "cell_type": "markdown",
   "metadata": {},
   "source": [
    "___"
   ]
  },
  {
   "cell_type": "markdown",
   "metadata": {},
   "source": [
    "# Типы данных, логические операции и условные операторы\n",
    "[↑ вернуться к оглавлению](#Навигация)\n",
    "\n",
    "В python все переменные это объекты, каждый объект должен принадлежать к определенному типу. Есть 4 основных типа:\n",
    "* целые числа - **int**;\n",
    "* вещественные (с плавающей точкой) - **float**;\n",
    "* логические - **bool**;\n",
    "* строковые - **str**.\n",
    "\n",
    "Эти типы данных являются *неизменяемыми*. Т.е. это означает, что к переменной **int** мы не можем просто так прибавить значение **str** переменной, для этого требуется создать новый объект, или же, если это возможно и оправдано -- использовать приведение. Например:"
   ]
  },
  {
   "cell_type": "code",
   "execution_count": 113,
   "metadata": {},
   "outputs": [
    {
     "name": "stdout",
     "output_type": "stream",
     "text": [
      "a = 5\n",
      "b = 5\n"
     ]
    }
   ],
   "source": [
    "a = 5\n",
    "print('a =', a)\n",
    "\n",
    "b = '5'\n",
    "print('b =', b)"
   ]
  },
  {
   "cell_type": "markdown",
   "metadata": {},
   "source": [
    "Вывод двух переменных выглядит одинаково, но на самом деле они имеют разный тип:"
   ]
  },
  {
   "cell_type": "code",
   "execution_count": 114,
   "metadata": {},
   "outputs": [
    {
     "name": "stdout",
     "output_type": "stream",
     "text": [
      "тип переменной a - <class 'int'> \n",
      "тип переменной b - <class 'str'>\n"
     ]
    }
   ],
   "source": [
    "print('тип переменной a -', type(a), '\\nтип переменной b -', type(b))"
   ]
  },
  {
   "cell_type": "markdown",
   "metadata": {},
   "source": [
    "Попробуем сложить эти переменные:"
   ]
  },
  {
   "cell_type": "code",
   "execution_count": 120,
   "metadata": {},
   "outputs": [
    {
     "ename": "TypeError",
     "evalue": "unsupported operand type(s) for +: 'int' and 'str'",
     "output_type": "error",
     "traceback": [
      "\u001b[0;31m---------------------------------------------------------------------------\u001b[0m",
      "\u001b[0;31mTypeError\u001b[0m                                 Traceback (most recent call last)",
      "\u001b[0;32m<ipython-input-120-23c4d59596c0>\u001b[0m in \u001b[0;36m<module>\u001b[0;34m\u001b[0m\n\u001b[0;32m----> 1\u001b[0;31m \u001b[0mc\u001b[0m \u001b[0;34m=\u001b[0m \u001b[0ma\u001b[0m \u001b[0;34m+\u001b[0m \u001b[0mb\u001b[0m\u001b[0;34m\u001b[0m\u001b[0;34m\u001b[0m\u001b[0m\n\u001b[0m\u001b[1;32m      2\u001b[0m \u001b[0mprint\u001b[0m\u001b[0;34m(\u001b[0m\u001b[0mc\u001b[0m\u001b[0;34m)\u001b[0m\u001b[0;34m\u001b[0m\u001b[0;34m\u001b[0m\u001b[0m\n",
      "\u001b[0;31mTypeError\u001b[0m: unsupported operand type(s) for +: 'int' and 'str'"
     ]
    }
   ],
   "source": [
    "c = a + b\n",
    "print(c)"
   ]
  },
  {
   "cell_type": "markdown",
   "metadata": {},
   "source": [
    "Мы получили ошибку, так как нельзя сложить **int** и **str**. Для того, что бы сложить эти переменные, нужно привести **b** к числовому типу, для этого перед переменной **b** укажем тип, к которому мы хотим её привести:"
   ]
  },
  {
   "cell_type": "code",
   "execution_count": 129,
   "metadata": {},
   "outputs": [
    {
     "name": "stdout",
     "output_type": "stream",
     "text": [
      "c = 10 \n",
      "тип переменной с - <class 'int'>\n"
     ]
    }
   ],
   "source": [
    "c = a + int(b)\n",
    "print('c =', c, '\\nтип переменной с -', type(c))"
   ]
  },
  {
   "cell_type": "markdown",
   "metadata": {},
   "source": [
    "## Немного про bool\n",
    "**bool** -- логический тип данных и может быть либо **True** (равен логической 1) либо **False** (равен логическому 0)"
   ]
  },
  {
   "cell_type": "code",
   "execution_count": 175,
   "metadata": {},
   "outputs": [
    {
     "name": "stdout",
     "output_type": "stream",
     "text": [
      "False <class 'bool'>\n",
      "True <class 'bool'>\n",
      "1 <class 'int'>\n",
      "2 <class 'int'>\n",
      "0 <class 'int'>\n"
     ]
    }
   ],
   "source": [
    "a = False\n",
    "print(a, type(a))\n",
    "\n",
    "a = True\n",
    "print(a, type(a))\n",
    "\n",
    "a = False + True\n",
    "print(a, type(a))\n",
    "\n",
    "a = True + True\n",
    "print(a, type(a))\n",
    "\n",
    "a = False + False\n",
    "print(a, type(a))"
   ]
  },
  {
   "cell_type": "markdown",
   "metadata": {},
   "source": [
    "## Логические операции\n",
    "Объявим переменные и присвоим им значение"
   ]
  },
  {
   "cell_type": "code",
   "execution_count": 2,
   "metadata": {},
   "outputs": [],
   "source": [
    "a = True\n",
    "b = True\n",
    "c = False\n",
    "d = False"
   ]
  },
  {
   "cell_type": "markdown",
   "metadata": {},
   "source": [
    "операция -- логическое **ИЛИ**\n",
    "\n",
    "результат равен **False** только в том случае, если обе переменных **False**, в остальных случаях **True**"
   ]
  },
  {
   "cell_type": "code",
   "execution_count": 3,
   "metadata": {},
   "outputs": [
    {
     "name": "stdout",
     "output_type": "stream",
     "text": [
      "True True False\n"
     ]
    }
   ],
   "source": [
    "print(a or b, a or c, c or d)"
   ]
  },
  {
   "cell_type": "markdown",
   "metadata": {},
   "source": [
    "операция - логическое **И**\n",
    "\n",
    "результат равен **True** только в том случае, если обе переменных **True**, в остальных случаях **False**"
   ]
  },
  {
   "cell_type": "code",
   "execution_count": 4,
   "metadata": {},
   "outputs": [
    {
     "name": "stdout",
     "output_type": "stream",
     "text": [
      "True False False\n"
     ]
    }
   ],
   "source": [
    "print(a and b, a and c, c and d)"
   ]
  },
  {
   "cell_type": "markdown",
   "metadata": {},
   "source": [
    "операция -- логическое **НЕ**\n",
    "\n",
    "проще говоря -- инвертирование"
   ]
  },
  {
   "cell_type": "code",
   "execution_count": 6,
   "metadata": {},
   "outputs": [
    {
     "name": "stdout",
     "output_type": "stream",
     "text": [
      "False False True True\n"
     ]
    }
   ],
   "source": [
    "print(not a, not b, not c, not d)"
   ]
  },
  {
   "cell_type": "markdown",
   "metadata": {},
   "source": [
    "Так же необходимо знать о приоритете операций, объясню на примере аналогий из математики:\n",
    "\n",
    "* **not** - это знак минуса (-) или просто запомнить, что **not** меняет значение на противоположное\n",
    "* **and** - это умножение (\\*)\n",
    "* **or** - это сложение (+)\n",
    "\n",
    "Следовательно приоритет следующий: **not** > **and** > **or**\n",
    "\n",
    "Для наглядности, если взять задачу с расставлением приоритетов: a and b or not a and not b, решение будет таким:"
   ]
  },
  {
   "cell_type": "code",
   "execution_count": 13,
   "metadata": {},
   "outputs": [
    {
     "name": "stdout",
     "output_type": "stream",
     "text": [
      "result = False\n",
      "result_new = False\n"
     ]
    }
   ],
   "source": [
    "result = (a and b or not a and not b) # мистер Py сам расставит приоритеты и даст ответ False\n",
    "print('result =', result)\n",
    "\n",
    "result_new = ((a and b) or ((not a) and (not b))) # если все верно -- результат не должен измениться\n",
    "print('result_new =', result_new)"
   ]
  },
  {
   "cell_type": "markdown",
   "metadata": {},
   "source": [
    "## Логические операторы и условные конструкции\n",
    "\n",
    "Логические операторы используются для сравнения и их результатом всегда будет bool.\n",
    "\n",
    "Существуют следующие операторы: **<**, **<=**, **>**, **>=**, **==**, **!=**\n",
    "\n",
    "Стандартные условные конструкции записываются в питоне как:\n",
    "\n",
    "**if** <*условие*>:\n",
    "\n",
    "**else**:\n",
    "\n",
    "Например:"
   ]
  },
  {
   "cell_type": "code",
   "execution_count": 19,
   "metadata": {},
   "outputs": [
    {
     "name": "stdout",
     "output_type": "stream",
     "text": [
      "False\n"
     ]
    }
   ],
   "source": [
    "a = True\n",
    "b = False\n",
    "c = False\n",
    "\n",
    "if a == True:\n",
    "    print(not a) # выполнится это\n",
    "else:\n",
    "    print(a or b)"
   ]
  },
  {
   "cell_type": "code",
   "execution_count": 23,
   "metadata": {},
   "outputs": [
    {
     "name": "stdout",
     "output_type": "stream",
     "text": [
      "Ауф\n"
     ]
    }
   ],
   "source": [
    "if 2 * 2 == 4:\n",
    "    print('Ауф')\n",
    "else:\n",
    "    print('Мех')"
   ]
  },
  {
   "cell_type": "markdown",
   "metadata": {},
   "source": [
    "**if**`ы можно вкладывать 1 в другой последовательно проверяя условия:"
   ]
  },
  {
   "cell_type": "code",
   "execution_count": 22,
   "metadata": {},
   "outputs": [
    {
     "name": "stdout",
     "output_type": "stream",
     "text": [
      "Ауф\n"
     ]
    }
   ],
   "source": [
    "if a == True:\n",
    "    if b != True:\n",
    "        print('Ауф') # выполнится это\n",
    "    else:\n",
    "        print('Уф-уф')\n",
    "else:\n",
    "    print('Не ауф')"
   ]
  },
  {
   "cell_type": "markdown",
   "metadata": {},
   "source": [
    "В условии можно проверять несколько... условий, к примеру, если совпало хотя бы 1 из условий, то выведется *Ауф*."
   ]
  },
  {
   "cell_type": "code",
   "execution_count": 31,
   "metadata": {},
   "outputs": [
    {
     "name": "stdout",
     "output_type": "stream",
     "text": [
      "Ауф\n"
     ]
    }
   ],
   "source": [
    "if a == True or b != True: # выполнится это\n",
    "    print('Ауф')\n",
    "else:\n",
    "    print('Не ауф')"
   ]
  },
  {
   "cell_type": "markdown",
   "metadata": {},
   "source": [
    "Если требуется проверить выполнение всех условий строго, то конструкция будет следующей:"
   ]
  },
  {
   "cell_type": "code",
   "execution_count": 32,
   "metadata": {},
   "outputs": [
    {
     "name": "stdout",
     "output_type": "stream",
     "text": [
      "Ауф\n"
     ]
    }
   ],
   "source": [
    "if a == True and b != True: # выполнится это\n",
    "    print('Ауф')\n",
    "else:\n",
    "    print('Не ауф')"
   ]
  },
  {
   "cell_type": "markdown",
   "metadata": {},
   "source": [
    "Можно так же использовать **elif** (**else if**) что бы не городить кучу **if**`ов подряд, правильнее будет так:"
   ]
  },
  {
   "cell_type": "code",
   "execution_count": 25,
   "metadata": {},
   "outputs": [
    {
     "name": "stdout",
     "output_type": "stream",
     "text": [
      "=_=\n"
     ]
    }
   ],
   "source": [
    "if 2 + 2 == 5:\n",
    "    print('о_О')\n",
    "elif 2 + 2 == 4:\n",
    "    print('=_=')\n",
    "else:\n",
    "    print('*_*')"
   ]
  },
  {
   "cell_type": "markdown",
   "metadata": {},
   "source": [
    "\\* **else** *необязательный блок, если не предусматривается алтернативное действие, в случае несовпадения условия, его можно не указывать.*"
   ]
  },
  {
   "cell_type": "markdown",
   "metadata": {},
   "source": [
    "### Касаемо конструкций **switch-case**\n",
    "\n",
    "Как вообще устроена конструкция **switch** **case** **break** в общем случае:\n",
    "* Компилятор генерирует таблицу перехода для оператора case switch.\n",
    "* Переменная/выражение переключателя оценивается один раз.\n",
    "* Оператор switch ищет оцененную переменную/выражение в таблице переходов и непосредственно решает, какой блок кода выполнить.\n",
    "* Если совпадение не найдено, код выполняется по умолчанию, если он был указан.\n",
    "\n",
    "Так вот, в Python нет такой реализации нативно, её можно реализовать самому через словари, но словари потрогаем позже. В двух словах -- реализация будет через запрос на возврат значения из словаря по ключу (**dictName.get**). Не в двух словах -- [можно почитать вот здесь большую пасту](https://ru.stackoverflow.com/a/460208)."
   ]
  },
  {
   "cell_type": "markdown",
   "metadata": {},
   "source": [
    "## Строки **str** и операции над ними."
   ]
  },
  {
   "cell_type": "code",
   "execution_count": 50,
   "metadata": {},
   "outputs": [
    {
     "name": "stdout",
     "output_type": "stream",
     "text": [
      "строка\n",
      "ничем не отличающаяся от предыдущей строка\n",
      "\"Текст в ковычках\"\n",
      "Мультистрочный\n",
      "текст\n",
      "пишу где хочу\n",
      "\n"
     ]
    }
   ],
   "source": [
    "a = 'строка'\n",
    "print(a)\n",
    "\n",
    "b = \"ничем не отличающаяся от предыдущей строка\"\n",
    "print(b)\n",
    "\n",
    "c = '\"Текст в ковычках\"'\n",
    "print(c)\n",
    "\n",
    "d = \"\"\"Мультистрочный\n",
    "текст\n",
    "пишу где хочу\n",
    "\"\"\"\n",
    "print(d)"
   ]
  },
  {
   "cell_type": "markdown",
   "metadata": {},
   "source": [
    "Строки можно сравнивать, складывать, умножать, узнавать её длину, найти наличие подстроки в строке и тд:"
   ]
  },
  {
   "cell_type": "code",
   "execution_count": 58,
   "metadata": {},
   "outputs": [
    {
     "name": "stdout",
     "output_type": "stream",
     "text": [
      "Саня верни сотку\n",
      "Саня верни соткусоткусотку\n",
      "Длина строки \"Саня верни сотку\" = 16\n"
     ]
    }
   ],
   "source": [
    "a = 'Саня '\n",
    "b = 'верни '\n",
    "c = 'сотку'\n",
    "\n",
    "print(a + b + c) # сложение строк (конкатенация)\n",
    "\n",
    "print(a + b + c * 3) # умножение строки \"c\" на три\n",
    "\n",
    "print('Длина строки \"Саня верни сотку\" =', len(a + b + c))\n",
    "\n"
   ]
  },
  {
   "cell_type": "markdown",
   "metadata": {},
   "source": [
    "Некоторые методы, которые можно использовать с строками:\n",
    "\n",
    "* **isalpha()**: возвращает **True**, если строка состоит только из алфавитных символов\n",
    "* **islower()**: возвращает **True**, если строка состоит только из символов в нижнем регистре\n",
    "* **isupper()**: возвращает **True**, если все символы строки в верхнем регистре\n",
    "* **isdigit():** возвращает **True**, если все символы строки - цифры\n",
    "* **isnumeric():** возвращает **True**, если строка представляет собой число\n",
    "* **startswith(** *проверяемая подстрока* **)**: возвращает **True**, если строка начинается с проверяемой подстроки\n",
    "* **endswith(** *проверяемая подстрока* **)**: возвращает **True**, если строка заканчивается на проверяемую подстроку\n",
    "* **lower()**: переводит строку в нижний регистр\n",
    "* **upper()**: переводит строку в вехний регистр\n",
    "* **title()**: начальные символы всех слов в строке переводятся в верхний регистр\n",
    "* **capitalize()**: переводит в верхний регистр первую букву только самого первого слова строки\n",
    "* **lstrip()**: удаляет начальные пробелы из строки\n",
    "* **rstrip()**: удаляет конечные пробелы из строки\n",
    "* **strip()**: удаляет начальные и конечные пробелы из строки\n",
    "* **ljust(*width*)**: если длина строки меньше параметра *width*, то справа от строки добавляются пробелы, чтобы дополнить значение *width*, а сама строка выравнивается по левому краю\n",
    "* **rjust(*width*)**: если длина строки меньше параметра *width*, то слева от строки добавляются пробелы, чтобы дополнить значение *width*, а сама строка выравнивается по правому краю\n",
    "* **center(*width*)**: если длина строки меньше параметра *width*, то слева и справа от строки равномерно добавляются пробелы, чтобы дополнить значение *width*, а сама строка выравнивается по центру\n",
    "* **find(*проверяемая строка*[, *start* [, *end*])**: возвращает индекс подстроки в строке. Если подстрока не найдена, возвращается число -1\n",
    "* **replace(*old*, *new[, num]*)**: заменяет в строке одну подстроку на другую\n",
    "* **split([delimeter[, num]])**: разбивает строку на подстроки в зависимости от разделителя\n",
    "* **join(*строки*)**: объединяет строки в одну строку, вставляя между ними определенный разделитель\n",
    "* **count('*символ*')**: выведет количество найденных символов\n",
    "\n",
    "Примеры некоторых конструкций:"
   ]
  },
  {
   "cell_type": "code",
   "execution_count": 6,
   "metadata": {},
   "outputs": [
    {
     "name": "stdout",
     "output_type": "stream",
     "text": [
      "СЪЕШЬ ЕЩЕ НЕМНОЖКО ЭТИХ ВКУСНЫХ ФРАНЦУЗСКИХ БУЛОЧЕК\n",
      "съешь еще немножко этих вкусных французских булочек\n",
      "True False\n",
      "True\n",
      "False\n",
      "4\n",
      "3\n",
      "['и днём и ночью кот ученый', ' всё ходит по цепи', ' кругом']\n",
      " всё ходит по цепи\n",
      "и днём и ночью кот учiный... всё ходит по цiпи... кругом\n",
      "4\n"
     ]
    }
   ],
   "source": [
    "a = 'съешь еще немножко этих вкусных французских булочек'\n",
    "b = 'и днём и ночью кот ученый... всё ходит по цепи... кругом'\n",
    "\n",
    "print(a.upper())\n",
    "\n",
    "print(a.lower())\n",
    "\n",
    "print(a.islower(), a.isalpha()) # True False\n",
    "\n",
    "print(a.startswith('съешь')) # True\n",
    "\n",
    "print(a.endswith('кругом')) # False\n",
    "\n",
    "print(b.find('ём')) # да, индекс 4 (напоминаю, отсчет с нуля)\n",
    "\n",
    "splitted_text = b.split('...') # разделяем текст по знаку ...\n",
    "print(len(splitted_text)) # узнаем длину массива, там будет 3 ячейки\n",
    "print(splitted_text) # выведем весь массив\n",
    "print(splitted_text[1]) # выводим текст из второй ячейки\n",
    "\n",
    "print(b.replace('е', 'i')) # заменим все буквы е на i\n",
    "\n",
    "print(b.count('и')) # сколько раз символ 'и' встречается в строке b"
   ]
  },
  {
   "cell_type": "markdown",
   "metadata": {},
   "source": [
    "Строка, по сути, как и в любом языке, это последовательный набор символов. Если набор последователен, значит его можно индексировать. Таким образом к символам строки можно обращаться по индексу, вот ряд интересных операций:"
   ]
  },
  {
   "cell_type": "code",
   "execution_count": 22,
   "metadata": {},
   "outputs": [
    {
     "name": "stdout",
     "output_type": "stream",
     "text": [
      "м\n",
      "ом\n",
      "гном\n",
      " гномыч\n",
      "омыч\n",
      "ном гномы\n",
      "нмгоы\n",
      "чымонг монг\n"
     ]
    }
   ],
   "source": [
    "string = 'гном гномыч'\n",
    "\n",
    "print(string[3]) # вывести символ с индексом 3 (индексирование в массивах и листах ВСЕГДА с 0)\n",
    "print(string[2:4]) # вывести символ в диапозоне индексов от 2 до 4, причем 2 включается, а 4 не включается\n",
    "print(string[:4]) # вывести символы от начала до указанного индекса (4 не включается)\n",
    "print(string[4:]) # вывесли символы начиная с индекса 4\n",
    "print(string[-4:]) # при указании отрицательного индекса, отсчет идет от конца строки (вывод не инвертируется)\n",
    "print(string[1:-1]) # вывести от 1 индекса до -1 (1 индекс от конца)\n",
    "print(string[1:-1:2]) # вывести от 1 до -1 с шагом в 2 (string(start_index:stop_index:step_lenght))\n",
    "print(string[::-1]) # инвертировать строку\n",
    "\n",
    "# что бы было понятнее с индексированием\n",
    "# в вывод включается левая граница, правая граница не включается\n",
    "# т.е. при выводе от [1:4] выведется строка с индекса 1 по индекс 3"
   ]
  },
  {
   "cell_type": "markdown",
   "metadata": {},
   "source": [
    "# Циклы"
   ]
  },
  {
   "cell_type": "markdown",
   "metadata": {},
   "source": [
    "## while\n",
    "\n",
    "**While** -- цикл, который выполняется до тех пор, пока его условие true"
   ]
  },
  {
   "cell_type": "code",
   "execution_count": 94,
   "metadata": {},
   "outputs": [
    {
     "name": "stdout",
     "output_type": "stream",
     "text": [
      "a = 5 итераций:  1\n",
      "a = 4 итераций:  2\n",
      "a = 3 итераций:  3\n",
      "a = 2 итераций:  4\n",
      "a = 1 итераций:  5\n"
     ]
    }
   ],
   "source": [
    "a = 5\n",
    "i = 0\n",
    "while a > 0:\n",
    "    i += 1\n",
    "    print('a =', a, 'итераций: ', i)\n",
    "    a -= 1"
   ]
  },
  {
   "cell_type": "code",
   "execution_count": 96,
   "metadata": {},
   "outputs": [
    {
     "name": "stdout",
     "output_type": "stream",
     "text": [
      "a = 4 итераций:  2\n",
      "a = 2 итераций:  4\n"
     ]
    }
   ],
   "source": [
    "a = 5\n",
    "i = 0\n",
    "while a > 0:\n",
    "    i += 1\n",
    "    if a % 2 == 0: # выведем только четные числа\n",
    "        print('a =', a, 'итераций: ', i)\n",
    "    a -= 1"
   ]
  },
  {
   "cell_type": "code",
   "execution_count": 99,
   "metadata": {},
   "outputs": [
    {
     "name": "stdout",
     "output_type": "stream",
     "text": [
      "a = 4 итераций:  2\n",
      "a = 2 итераций:  4\n",
      "Завершение цикла\n"
     ]
    }
   ],
   "source": [
    "a = 5\n",
    "i = 0\n",
    "flag = True\n",
    "\n",
    "while flag: # пока flag = True цикл будет выполняться\n",
    "    i += 1\n",
    "    if a % 2 == 0: # выведем только четные числа\n",
    "        print('a =', a, 'итераций: ', i)\n",
    "    a -= 1\n",
    "    if a == 0: # как только получили а = 0, устанавливаем flag в False\n",
    "        flag = False\n",
    "        print('Завершение цикла')"
   ]
  },
  {
   "cell_type": "markdown",
   "metadata": {},
   "source": [
    "### break и continue\n",
    "\n",
    "**While** можно прервать **break** или же пропустить выполнение итерации **continue**"
   ]
  },
  {
   "cell_type": "code",
   "execution_count": 115,
   "metadata": {},
   "outputs": [
    {
     "name": "stdout",
     "output_type": "stream",
     "text": [
      "a = 4 итераций:  2\n",
      "a = 2 итераций:  4\n",
      "прерываем цикл\n"
     ]
    }
   ],
   "source": [
    "a = 5\n",
    "i = 0\n",
    "flag = True\n",
    "\n",
    "while flag: # пока flag = True цикл будет выполняться ( в этом примере flag всегда True, т.е. цикл вечный)\n",
    "    i += 1\n",
    "    if a % 2 == 0: # выведем только четные числа\n",
    "        print('a =', a, 'итераций: ', i)\n",
    "    a -= 1\n",
    "    if a == 0: # как только получили а = 0, устанавливаем flag в False\n",
    "        print('прерываем цикл')\n",
    "        break"
   ]
  },
  {
   "cell_type": "code",
   "execution_count": 118,
   "metadata": {},
   "outputs": [
    {
     "name": "stdout",
     "output_type": "stream",
     "text": [
      "в начале итерации а = 4\n",
      "в начале итерации а = 3\n",
      "пропускаем дальнейший код\n",
      "в начале итерации а = 2\n",
      "в начале итерации а = 1\n",
      "пропускаем дальнейший код\n",
      "в начале итерации а = 0\n",
      "прерываем цикл\n"
     ]
    }
   ],
   "source": [
    "a = 5\n",
    "i = 0\n",
    "flag = True\n",
    "\n",
    "while flag: # пока flag = True цикл будет выполняться ( в этом примере flag всегда True, т.е. цикл вечный)\n",
    "    i += 1\n",
    "    a -= 1\n",
    "    print('в начале итерации а =', a)\n",
    "    if a % 2 != 0: # каждый раз, когда у нас нечетное число, мы пропускаем остальное выполнение кода\n",
    "        print('пропускаем дальнейший код')\n",
    "        continue\n",
    "    if a == 0: # как только получили а = 0, устанавливаем flag в False\n",
    "        print('прерываем цикл')\n",
    "        break"
   ]
  },
  {
   "cell_type": "markdown",
   "metadata": {},
   "source": [
    "## for"
   ]
  },
  {
   "cell_type": "markdown",
   "metadata": {},
   "source": [
    "**For** -- цикл, который будет выполняться по заданному условию. Так как в Python отсутствует цикл **foreach**, потому что конструкция цикла **for** гибкая, цикл **for** имеет конструкцию очень схожую с **foreach**."
   ]
  },
  {
   "cell_type": "code",
   "execution_count": 100,
   "metadata": {},
   "outputs": [
    {
     "name": "stdout",
     "output_type": "stream",
     "text": [
      "0\n",
      "1\n",
      "2\n",
      "3\n",
      "4\n",
      "5\n",
      "6\n",
      "7\n",
      "8\n",
      "9\n"
     ]
    }
   ],
   "source": [
    "i = 0\n",
    "\n",
    "for i in range(10):\n",
    "    print(i)"
   ]
  },
  {
   "cell_type": "code",
   "execution_count": 108,
   "metadata": {},
   "outputs": [
    {
     "name": "stdout",
     "output_type": "stream",
     "text": [
      "1\n",
      "4\n",
      "5\n",
      "60\n",
      "32\n"
     ]
    }
   ],
   "source": [
    "array = [1, 4, 5, 60 , 32] # так задаётся лист\n",
    "\n",
    "for i in array: # итеративно выведет весь лист\n",
    "    print(i)"
   ]
  },
  {
   "cell_type": "code",
   "execution_count": 109,
   "metadata": {},
   "outputs": [
    {
     "name": "stdout",
     "output_type": "stream",
     "text": [
      "[1, 4, 5, 60, 32]\n",
      "[12, 23, 45, 23, 4]\n"
     ]
    }
   ],
   "source": [
    "array = [1, 4, 5, 60 , 32], [12, 23, 45, 23 , 4] # так задаётся лист, который состоит из двух массивов\n",
    "\n",
    "for i in array: # итеративно выведет весь лист\n",
    "    print(i)"
   ]
  },
  {
   "cell_type": "code",
   "execution_count": 111,
   "metadata": {},
   "outputs": [
    {
     "name": "stdout",
     "output_type": "stream",
     "text": [
      "12\n",
      "23\n",
      "45\n",
      "23\n",
      "4\n"
     ]
    }
   ],
   "source": [
    "array = [1, 4, 5, 60 , 32], [12, 23, 45, 23 , 4] # так задаётся лист, который состоит из двух массивов\n",
    "\n",
    "for i in array[1]: # итеративно выведет лист (найди 5 отличий)\n",
    "    print(i)"
   ]
  },
  {
   "cell_type": "markdown",
   "metadata": {},
   "source": [
    "# Списки (list)"
   ]
  },
  {
   "cell_type": "markdown",
   "metadata": {},
   "source": [
    "В Python пошли еще на одно упрощение и отказались от массивов, оставив только списки, так как у массива есть ряд неудобных ограничений, вроде того, что длина его должна быть неизменной и тд. Очевидным приемуществом списков является то, что в их ячейках, по аналогии с массивами, можно хранить любой тип данных.\n",
    "\n",
    "Рассмотрим списки на примере:"
   ]
  },
  {
   "cell_type": "code",
   "execution_count": 70,
   "metadata": {},
   "outputs": [
    {
     "name": "stdout",
     "output_type": "stream",
     "text": [
      "covvy <class 'str'>\n",
      "sovvy\n",
      "covvy\n",
      "borry\n",
      "3\n"
     ]
    }
   ],
   "source": [
    "group = ['sovvy', 'covvy', 'borry'] # так задаётся список (лист)\n",
    "\n",
    "# выведем из него элемент с индексом 1 и посмотрим на его тип \n",
    "print(group[1], type(group[1]))\n",
    "\n",
    "# мы можем вывести все элементы листа при помощи цикла\n",
    "for i in group:\n",
    "    print(i)\n",
    "    \n",
    "# длина листа узнается как и длина строки\n",
    "print(len(group)) # т.е. 3 ячейки"
   ]
  },
  {
   "cell_type": "markdown",
   "metadata": {},
   "source": [
    "Очевидно, что работа с листом очень похожа на работу с строками. При помощи тех же слайсов, которые мы использовали при выводе текста их строки, можно выводить элементы списка:"
   ]
  },
  {
   "cell_type": "code",
   "execution_count": 71,
   "metadata": {},
   "outputs": [
    {
     "name": "stdout",
     "output_type": "stream",
     "text": [
      "['covvy']\n",
      "['sovvy', 'covvy']\n",
      "borry\n",
      "['borry', 'covvy', 'sovvy']\n"
     ]
    }
   ],
   "source": [
    "print(group[1:2])\n",
    "print(group[:2])\n",
    "print(group[-1])\n",
    "print(group[::-1])\n",
    "# и так далее"
   ]
  },
  {
   "cell_type": "markdown",
   "metadata": {},
   "source": [
    "Листы можно складывать между собой, в таком случае второй лист впишется в конец, после первого списка. Списки можно умножать на число и тд:"
   ]
  },
  {
   "cell_type": "code",
   "execution_count": 72,
   "metadata": {},
   "outputs": [
    {
     "name": "stdout",
     "output_type": "stream",
     "text": [
      "['sovvy', 'covvy', 'borry', 'Саня', 'Ваня', 'Маня']\n",
      "['sovvy', 'covvy', 'borry', 'Саня', 'Ваня', 'Маня', 'sovvy', 'covvy', 'borry', 'Саня', 'Ваня', 'Маня']\n"
     ]
    }
   ],
   "source": [
    "member = ['Саня', 'Ваня', 'Маня']\n",
    "\n",
    "group += member\n",
    "print(group)\n",
    "\n",
    "group *= 2\n",
    "print(group)"
   ]
  },
  {
   "cell_type": "markdown",
   "metadata": {},
   "source": [
    "Ранее изученные типы данных **int**, **str**, **float**, **bool** -- являлись неизменяемыми (хз почему, так в справке написано, я проверял, у тебя тоже сейчас возникнет вопрос, это стоит просто запомнить, т.к. это спрашивают везде), но листы являются изменяемым типом данных, по индексу мы можем вписать новое значение:"
   ]
  },
  {
   "cell_type": "code",
   "execution_count": 73,
   "metadata": {},
   "outputs": [
    {
     "name": "stdout",
     "output_type": "stream",
     "text": [
      "['sovvy', 'worry', 'borry', 'Саня', 'Ваня', 'Маня', 'sovvy', 'covvy', 'borry', 'Саня', 'Ваня', 'Маня']\n"
     ]
    }
   ],
   "source": [
    "group[1] = 'worry' # запишем в ячейку с индексом 1 новое значение\n",
    "print(group)"
   ]
  },
  {
   "cell_type": "markdown",
   "metadata": {},
   "source": [
    "В список можно добавлять элементы не просто прибавляя к нему другие списки, а просто при помощи метода **.append()**:"
   ]
  },
  {
   "cell_type": "code",
   "execution_count": 74,
   "metadata": {
    "scrolled": true
   },
   "outputs": [
    {
     "name": "stdout",
     "output_type": "stream",
     "text": [
      "['sovvy', 'worry', 'borry', 'Саня', 'Ваня', 'Маня', 'sovvy', 'covvy', 'borry', 'Саня', 'Ваня', 'Маня', 'Пётр']\n"
     ]
    }
   ],
   "source": [
    "group.append('Пётр')\n",
    "print(group)"
   ]
  },
  {
   "cell_type": "markdown",
   "metadata": {},
   "source": [
    "Тоже самое у нас происходит при прибавлении листа:"
   ]
  },
  {
   "cell_type": "code",
   "execution_count": 75,
   "metadata": {},
   "outputs": [
    {
     "name": "stdout",
     "output_type": "stream",
     "text": [
      "['sovvy', 'worry', 'borry', 'Саня', 'Ваня', 'Маня', 'sovvy', 'covvy', 'borry', 'Саня', 'Ваня', 'Маня', 'Пётр', 'Другой Пётр']\n"
     ]
    }
   ],
   "source": [
    "group += ['Другой Пётр']\n",
    "print(group)"
   ]
  },
  {
   "cell_type": "markdown",
   "metadata": {},
   "source": [
    "Обрати внимание, если к листу прибавить строку, то так как строка является индексируемым набором символов, то мы добавим не 1 новое зачение в конец листа, а столько значений, сколько букв в строке:"
   ]
  },
  {
   "cell_type": "code",
   "execution_count": 76,
   "metadata": {},
   "outputs": [
    {
     "name": "stdout",
     "output_type": "stream",
     "text": [
      "['sovvy', 'worry', 'borry', 'Саня', 'Ваня', 'Маня', 'sovvy', 'covvy', 'borry', 'Саня', 'Ваня', 'Маня', 'Пётр', 'Другой Пётр', 'с', 'т', 'р', 'о', 'к', 'а']\n"
     ]
    }
   ],
   "source": [
    "group += 'строка'\n",
    "print(group)"
   ]
  },
  {
   "cell_type": "markdown",
   "metadata": {},
   "source": [
    "Если нам требуется не просто добавить элемент дефолтно в конец, а вставить его на конкретную позицию, то используется метод **.insetr(index, element)**"
   ]
  },
  {
   "cell_type": "code",
   "execution_count": 77,
   "metadata": {},
   "outputs": [
    {
     "name": "stdout",
     "output_type": "stream",
     "text": [
      "['sovvy', 'worry', 'borry', 'Саня', 'Ваня', 'Маня', 'sovvy', 'covvy', 'borry', 'Саня', 'Ваня', 'Маня', 'Пётр', 'Другой Пётр', 'с', 'т', 'р', 'о', 'к', 'а']\n",
      "['sovvy', 'worry', 'borry', 'borry', 'Саня', 'Ваня', 'Маня', 'sovvy', 'covvy', 'borry', 'Саня', 'Ваня', 'Маня', 'Пётр', 'Другой Пётр', 'с', 'т', 'р', 'о', 'к', 'а']\n"
     ]
    }
   ],
   "source": [
    "print(group)\n",
    "\n",
    "group.insert(2, 'borry')\n",
    "print(group)"
   ]
  },
  {
   "cell_type": "markdown",
   "metadata": {},
   "source": [
    "Может возникнуть ситуация, что нам требуется проверить, есть ли элемент в листе, это проверяется с помощью конструкции **if else**"
   ]
  },
  {
   "cell_type": "code",
   "execution_count": 78,
   "metadata": {},
   "outputs": [
    {
     "name": "stdout",
     "output_type": "stream",
     "text": [
      "it`s here\n"
     ]
    }
   ],
   "source": [
    "if 'borry' in group:\n",
    "    print('it`s here')"
   ]
  },
  {
   "cell_type": "markdown",
   "metadata": {},
   "source": [
    "Проверить, что элемент отсутствует в списке можно аналогично:"
   ]
  },
  {
   "cell_type": "code",
   "execution_count": 79,
   "metadata": {},
   "outputs": [
    {
     "name": "stdout",
     "output_type": "stream",
     "text": [
      "null\n"
     ]
    }
   ],
   "source": [
    "if 'berry' not in group:\n",
    "    print('null')"
   ]
  },
  {
   "cell_type": "markdown",
   "metadata": {},
   "source": [
    "Может потребоваться не просто проверить элемент, а еще получить его индекс, это провернуть можно с помощью метода **.index(element)**"
   ]
  },
  {
   "cell_type": "code",
   "execution_count": 80,
   "metadata": {},
   "outputs": [
    {
     "name": "stdout",
     "output_type": "stream",
     "text": [
      "0\n"
     ]
    }
   ],
   "source": [
    "print(group.index('sovvy'))"
   ]
  },
  {
   "cell_type": "markdown",
   "metadata": {},
   "source": [
    "Важно! И проверка и вывод индекса, как ты уже заметил, происходит только по первому вхождению. Если требуется найти все совпадающие элементы, можно воспользоваться циклом **for**"
   ]
  },
  {
   "cell_type": "code",
   "execution_count": 93,
   "metadata": {},
   "outputs": [
    {
     "name": "stdout",
     "output_type": "stream",
     "text": [
      "[0]sovvy\n",
      "[7]sovvy\n"
     ]
    }
   ],
   "source": [
    "j = 0\n",
    "for i in group: \n",
    "    if i == 'sovvy':\n",
    "        print('['+ str(j) +']' + i)\n",
    "    j += 1"
   ]
  },
  {
   "cell_type": "markdown",
   "metadata": {},
   "source": [
    "Найти количество элементов:"
   ]
  },
  {
   "cell_type": "code",
   "execution_count": 94,
   "metadata": {},
   "outputs": [
    {
     "name": "stdout",
     "output_type": "stream",
     "text": [
      "2\n"
     ]
    }
   ],
   "source": [
    "print(group.count('sovvy'))"
   ]
  },
  {
   "cell_type": "markdown",
   "metadata": {},
   "source": [
    "Удалить элемент из списка (удалит первое вхождение):"
   ]
  },
  {
   "cell_type": "code",
   "execution_count": 95,
   "metadata": {},
   "outputs": [
    {
     "name": "stdout",
     "output_type": "stream",
     "text": [
      "начальный список -- ['sovvy', 'worry', 'borry', 'borry', 'Саня', 'Ваня', 'Маня', 'sovvy', 'covvy', 'borry', 'Саня', 'Ваня', 'Маня', 'Пётр', 'Другой Пётр', 'с', 'т', 'р', 'о', 'к', 'а']\n",
      "обновлённый список -- ['worry', 'borry', 'borry', 'Саня', 'Ваня', 'Маня', 'sovvy', 'covvy', 'borry', 'Саня', 'Ваня', 'Маня', 'Пётр', 'Другой Пётр', 'с', 'т', 'р', 'о', 'к', 'а']\n"
     ]
    }
   ],
   "source": [
    "print('начальный список --', group)\n",
    "group.remove('sovvy')\n",
    "print('обновлённый список --', group)"
   ]
  },
  {
   "cell_type": "markdown",
   "metadata": {},
   "source": [
    "Удалять элементы можно и по индексу при помощи конструкции **del listname[*index*]**. К примеру удалим всех Вань из списка:"
   ]
  },
  {
   "cell_type": "code",
   "execution_count": 97,
   "metadata": {},
   "outputs": [
    {
     "name": "stdout",
     "output_type": "stream",
     "text": [
      "['worry', 'borry', 'borry', 'Саня', 'Маня', 'sovvy', 'covvy', 'borry', 'Саня', 'Маня', 'Пётр', 'Другой Пётр', 'с', 'т', 'р', 'о', 'к', 'а']\n"
     ]
    }
   ],
   "source": [
    "j = 0\n",
    "for i in group: \n",
    "    if i == 'Ваня':\n",
    "        del group[j]\n",
    "    j += 1\n",
    "print(group)"
   ]
  },
  {
   "cell_type": "markdown",
   "metadata": {},
   "source": [
    "Лист можно сортировать. Есть 2 способа: без изменения исходного списка, с изменением исхоного списка:"
   ]
  },
  {
   "cell_type": "code",
   "execution_count": 99,
   "metadata": {},
   "outputs": [
    {
     "name": "stdout",
     "output_type": "stream",
     "text": [
      "['borry', 'borry', 'borry', 'covvy', 'sovvy', 'worry', 'Другой Пётр', 'Маня', 'Маня', 'Пётр', 'Саня', 'Саня', 'а', 'к', 'о', 'р', 'с', 'т']\n",
      "['borry', 'borry', 'borry', 'covvy', 'sovvy', 'worry', 'Другой Пётр', 'Маня', 'Маня', 'Пётр', 'Саня', 'Саня', 'а', 'к', 'о', 'р', 'с', 'т']\n"
     ]
    }
   ],
   "source": [
    "# без изменения исхожного списка\n",
    "\n",
    "sorted_group = sorted(group)\n",
    "print(sorted_group)\n",
    "\n",
    "# с изменением исходного\n",
    "group.sort()\n",
    "print(group)"
   ]
  },
  {
   "cell_type": "markdown",
   "metadata": {},
   "source": [
    "Отразить список можно не только через [::-1] (это, к слову, не изменить первоначальный список, а просто отобразит его перевернутым), но еще и при помощи методов **reversed()** и **.reverse()**"
   ]
  },
  {
   "cell_type": "code",
   "execution_count": 114,
   "metadata": {},
   "outputs": [
    {
     "name": "stdout",
     "output_type": "stream",
     "text": [
      "['т', 'с', 'р', 'о', 'к', 'а', 'Саня', 'Саня', 'Пётр', 'Маня', 'Маня', 'Другой Пётр', 'worry', 'sovvy', 'covvy', 'borry', 'borry', 'borry']\n"
     ]
    }
   ],
   "source": [
    "reversed(group) # не изменяет исходный список\n",
    "\n",
    "group.reverse()\n",
    "print(group) # изменяет исходный список\n",
    "      "
   ]
  },
  {
   "cell_type": "markdown",
   "metadata": {},
   "source": [
    "## Двумерные списки\n",
    "Двумерные списки задаются точно так же, как и обычные, но у них есть расширенная возможность индексации."
   ]
  },
  {
   "cell_type": "code",
   "execution_count": 115,
   "metadata": {},
   "outputs": [
    {
     "name": "stdout",
     "output_type": "stream",
     "text": [
      "Длина списка -- 3 элемент под индексом 0: [0, 5, 12]\n"
     ]
    }
   ],
   "source": [
    "table = [[0, 5, 12], [3, 6, 9], [8, 34, 69]] # и тд. т.е. в списке хранятся еще списки\n",
    "\n",
    "# давай посмотрим длину списка, и получим элемент с индексом 0\n",
    "print('Длина списка --', len(table), 'элемент под индексом 0:', table[0])"
   ]
  },
  {
   "cell_type": "code",
   "execution_count": 117,
   "metadata": {},
   "outputs": [
    {
     "name": "stdout",
     "output_type": "stream",
     "text": [
      "5\n"
     ]
    }
   ],
   "source": [
    "# т.е. в нашем списке всего 3 элемента, и каждый из этих элементов -- список, \n",
    "# так как при запросе жлемента с индексом 0 нам вернулся список\n",
    "\n",
    "# давай попробуем прменить расширенную индексацию (такая же индексация применяется при индексировании таблиц [row][cell])\n",
    "print(table[0][1]) # обратились к элементу 0 и получили из того элемента элемент с индексом 1"
   ]
  },
  {
   "cell_type": "markdown",
   "metadata": {},
   "source": [
    "# Множества и словари\n",
    "\n",
    "## Множества\n",
    "\n",
    "Множества -- родственники листов (списков), но есть существенные отличия:"
   ]
  },
  {
   "cell_type": "code",
   "execution_count": 184,
   "metadata": {},
   "outputs": [
    {
     "name": "stdout",
     "output_type": "stream",
     "text": [
      "{'dankeyYy', 'fill', 'alex', 'bill'}\n"
     ]
    }
   ],
   "source": [
    "many = set() # создание пустого множества\n",
    "\n",
    "manymany = {'bill', 'fill', 'fill', 'alex', 'dankeyYy'} # инициализирование множества при создании\n",
    "print(manymany) # в множество будут добавлены только уникальные значения"
   ]
  },
  {
   "cell_type": "code",
   "execution_count": 185,
   "metadata": {},
   "outputs": [
    {
     "name": "stdout",
     "output_type": "stream",
     "text": [
      "True\n"
     ]
    }
   ],
   "source": [
    "print('bill' in manymany) # поиск совпадений в множестве"
   ]
  },
  {
   "cell_type": "markdown",
   "metadata": {},
   "source": [
    "Методы для работы со множествами:"
   ]
  },
  {
   "cell_type": "code",
   "execution_count": 186,
   "metadata": {},
   "outputs": [
    {
     "name": "stdout",
     "output_type": "stream",
     "text": [
      "{'fill', 'alex', 'bob', 'bill', 'dankeyYy'}\n",
      "{'fill', 'alex', 'bob', 'bill', 'dankeyYy'}\n",
      "{'fill', 'alex', 'bob', 'bill'}\n",
      "set()\n"
     ]
    }
   ],
   "source": [
    "manymany.add('bob') # добавление элемента\n",
    "print(manymany)\n",
    "\n",
    "manymany.discard('dankey') # удаление элемента (в случае отсутствия элемента не генерирует ошибку)\n",
    "print(manymany)\n",
    "\n",
    "manymany.remove('dankeyYy') # удаление элемента (в случае отсутствия элемента генерирует ошибку)\n",
    "print(manymany)\n",
    "\n",
    "manymany.clear() # очистка множества\n",
    "print(manymany)"
   ]
  },
  {
   "cell_type": "markdown",
   "metadata": {},
   "source": [
    "## Словари\n",
    "\n",
    "Словари похожи на множества, но хранят жанныи в виде ключ=значение:"
   ]
  },
  {
   "cell_type": "code",
   "execution_count": 193,
   "metadata": {},
   "outputs": [
    {
     "name": "stdout",
     "output_type": "stream",
     "text": [
      "{'a': 'Саня', 'b': 'Костя'}\n",
      "Саня\n"
     ]
    }
   ],
   "source": [
    "dict, {} # создать пустой словарь\n",
    "\n",
    "dict1 = {'a': 'Саня', 'b': 'Костя'}\n",
    "print(dict1)\n",
    "print(dict1['a'])"
   ]
  },
  {
   "cell_type": "markdown",
   "metadata": {},
   "source": [
    "В словари так же можно добавлять значение, удалять значения, искать значения:"
   ]
  },
  {
   "cell_type": "code",
   "execution_count": 205,
   "metadata": {},
   "outputs": [
    {
     "name": "stdout",
     "output_type": "stream",
     "text": [
      "{'a': 'Не Саня', 'b': 'Костя', 'c': 'Некита'}\n",
      "Некита\n",
      "{'a': 'Не Саня', 'b': 'Костя', 'c': 'Некита'}\n",
      "Не Саня\n",
      "True\n",
      "True\n",
      "Не Саня\n",
      "Не Саня\n",
      "{'b': 'Костя', 'c': 'Некита'}\n"
     ]
    }
   ],
   "source": [
    "dict1['c'] = 'Некита' # добавление пары\n",
    "print(dict1)\n",
    "print(dict1['c'])\n",
    "\n",
    "dict1['a'] = 'Не Саня' # Изменить существующее значение\n",
    "print(dict1)\n",
    "print(dict1['a'])\n",
    "\n",
    "print('a' in dict1) # поиск ключа в словаре\n",
    "print('d' not in dict1) # проверка на остуствие ключа\n",
    "\n",
    "print(dict1.get('a')) # безопасное получение значения ключа (в случае отсутствия вернет None, не сгенерирует ошибку)\n",
    "print(dict1['a']) # небезопасное получение значения ключа (в случае отсутствия сгенерирует ошибку)\n",
    "\n",
    "del dict1['a'] # удаление пары \n",
    "print(dict1)"
   ]
  },
  {
   "cell_type": "markdown",
   "metadata": {},
   "source": [
    "Перебор словарей:"
   ]
  },
  {
   "cell_type": "code",
   "execution_count": 214,
   "metadata": {},
   "outputs": [
    {
     "name": "stdout",
     "output_type": "stream",
     "text": [
      "b c \n",
      "\n",
      "b c \n",
      "\n",
      "Костя Некита \n",
      "\n",
      "b Костя; c Некита; "
     ]
    }
   ],
   "source": [
    "for key in dict1: # перебрать ключи\n",
    "    print(key, end=' ')\n",
    "\n",
    "print('\\n')\n",
    "    \n",
    "for key in dict1.keys(): # перебор ключей (явный)\n",
    "    print(key, end= ' ')\n",
    "    \n",
    "print('\\n')\n",
    "    \n",
    "for value in dict1.values(): # перебор значений\n",
    "    print(value, end=' ')\n",
    "    \n",
    "print('\\n')\n",
    "\n",
    "for key, value in dict1.items(): # перебор пар ключ-значение\n",
    "    print(key, value, end='; ')"
   ]
  },
  {
   "cell_type": "markdown",
   "metadata": {},
   "source": [
    "Ключи должны быть уникальными, но значения могут повторяться. Более того, к одному ключу можно привязать несколько значений (список)"
   ]
  },
  {
   "cell_type": "code",
   "execution_count": 219,
   "metadata": {},
   "outputs": [
    {
     "name": "stdout",
     "output_type": "stream",
     "text": [
      "['Саня', 'Костя', 'Никита']\n"
     ]
    }
   ],
   "source": [
    "d = { 'люди': ['Саня', 'Костя', 'Никита'], 'машины': ['BMV', 'Lada', 'untitled']}\n",
    "print(d.get('люди'))"
   ]
  },
  {
   "cell_type": "markdown",
   "metadata": {},
   "source": [
    "# Функции (методы) \n",
    "Что бы было удобнее использовать код были придуманы функции.\n",
    "\n",
    "Функция имеет такую конструкцию **def func_name(paramete, parameter, ...):**\n",
    "\n",
    "Параметр не обязателен, все зависит от контекста. К примеру напишем функцию, которая сравнит 2 числа и назовет большее:"
   ]
  },
  {
   "cell_type": "code",
   "execution_count": 118,
   "metadata": {},
   "outputs": [],
   "source": [
    "def maximum(a, b):\n",
    "    if a > b:\n",
    "        print(a)\n",
    "    else:\n",
    "        print(b)"
   ]
  },
  {
   "cell_type": "markdown",
   "metadata": {},
   "source": [
    "Сейчас эта функция ничего не возвращает и никак не используется, потому что мы её не вызывали. Давай вызовем, передав аргументы a и b:"
   ]
  },
  {
   "cell_type": "code",
   "execution_count": 119,
   "metadata": {},
   "outputs": [
    {
     "name": "stdout",
     "output_type": "stream",
     "text": [
      "23\n"
     ]
    }
   ],
   "source": [
    "maximum(14, 23)"
   ]
  },
  {
   "cell_type": "markdown",
   "metadata": {},
   "source": [
    "Мы вызвали функцию **maximum** и передали в нее значение аргумента a и значение аргумента b.\n",
    "\n",
    "Конкретно эта функция не возвращает результат, а просто выполняется. Вернуть результат вычислений можно при помощи ключевого слова **return**:"
   ]
  },
  {
   "cell_type": "code",
   "execution_count": 120,
   "metadata": {},
   "outputs": [],
   "source": [
    "import math\n",
    "\n",
    "def sqr_calc(a):\n",
    "    result = math.sqrt(a)\n",
    "    return result"
   ]
  },
  {
   "cell_type": "code",
   "execution_count": 121,
   "metadata": {},
   "outputs": [
    {
     "name": "stdout",
     "output_type": "stream",
     "text": [
      "3.0\n"
     ]
    }
   ],
   "source": [
    "print(sqr_calc(9))\n"
   ]
  },
  {
   "cell_type": "markdown",
   "metadata": {},
   "source": [
    "Что сейчас произошло: мы вызвали функцию **sqr_calc**, передав в качестве аргумента значение a, которое равно 9, в функции, при помощи импортированной библиотеки **math** рассчитался квадратный корень числа и функция вернула нам результат расчёта, который мы вывели на экран.\n",
    "\n",
    "Так же возвращаемое значение можно не просто вывести на экран, а записать его в какую-нибудь переменную:"
   ]
  },
  {
   "cell_type": "code",
   "execution_count": 122,
   "metadata": {},
   "outputs": [
    {
     "name": "stdout",
     "output_type": "stream",
     "text": [
      "3.0\n"
     ]
    }
   ],
   "source": [
    "result = sqr_calc(9)\n",
    "print(result)"
   ]
  },
  {
   "cell_type": "markdown",
   "metadata": {},
   "source": [
    "Важно! Когда код достигает **return** -- дальнейший код в этой функции не выполнится, так как **return** вернет значение в вызывающий метод и прервет дальнейшее выполнение своей функции. Всё, что будет написанно после **return** на этом же уровне кода называется *недостижимый код*.\n",
    "\n",
    "Но так как у нас может быть использованы if else конструкции, которые имеют разный уровень табуляции или же циклы, то вполне уместно использовать несколько **return**"
   ]
  },
  {
   "cell_type": "code",
   "execution_count": 123,
   "metadata": {},
   "outputs": [],
   "source": [
    "def calc(a):\n",
    "    if a > 5:\n",
    "        result = a * 10\n",
    "        return result\n",
    "    else:\n",
    "        return 0"
   ]
  },
  {
   "cell_type": "code",
   "execution_count": 124,
   "metadata": {},
   "outputs": [
    {
     "name": "stdout",
     "output_type": "stream",
     "text": [
      "70\n"
     ]
    }
   ],
   "source": [
    "print(calc(7))"
   ]
  },
  {
   "cell_type": "markdown",
   "metadata": {},
   "source": [
    "Как уже говорилось ранее, функция может иметь некоторые определенные параметры или не иметь параметров вовсе, но в питоне есть прикольная штука -- функция может иметь нопределенное количество параметров, указываются они через \\*:"
   ]
  },
  {
   "cell_type": "code",
   "execution_count": 161,
   "metadata": {},
   "outputs": [],
   "source": [
    "def multi(*a):\n",
    "    \n",
    "    temp = []\n",
    "    result = 0\n",
    "    \n",
    "    # умножим каждый аргумент на 2 и положим каждый результат в список temp\n",
    "    for i in range(len(a)):\n",
    "        temp.append(a[i] * 2)\n",
    "        \n",
    "    # найдем среднее значений списка temp\n",
    "    for i in range(len(temp)):\n",
    "        result += temp[i]\n",
    "        result /= len(temp)\n",
    "        \n",
    "    # вернем результат\n",
    "    return result"
   ]
  },
  {
   "cell_type": "code",
   "execution_count": 162,
   "metadata": {},
   "outputs": [
    {
     "name": "stdout",
     "output_type": "stream",
     "text": [
      "6.37037037037037\n"
     ]
    }
   ],
   "source": [
    "result = multi(2, 4, 8)\n",
    "print(result)"
   ]
  },
  {
   "cell_type": "markdown",
   "metadata": {},
   "source": [
    "Мы также можем передавать не только строго только обязательные параметры, мы так же можем передавать или не передавать необяхательный параметр, который, в случае, если параметр не будет передаваться, будет испрользовать значение по умолчанию:"
   ]
  },
  {
   "cell_type": "code",
   "execution_count": 175,
   "metadata": {},
   "outputs": [],
   "source": [
    "def multi2(list_a, b=2):\n",
    "    \n",
    "    temp = []\n",
    "    result = 0\n",
    "    \n",
    "    # умножим каждый аргумент на 2 и положим каждый результат в список temp\n",
    "    for i in range(len(list_a)):\n",
    "        temp.append(list_a[i] * b)\n",
    "        \n",
    "    # найдем среднее значений списка temp\n",
    "    for i in range(len(temp)):\n",
    "        result += temp[i]\n",
    "        result /= len(temp)\n",
    "        \n",
    "    # вернем результат\n",
    "    return result"
   ]
  },
  {
   "cell_type": "code",
   "execution_count": 176,
   "metadata": {},
   "outputs": [
    {
     "name": "stdout",
     "output_type": "stream",
     "text": [
      "15.925925925925926\n"
     ]
    }
   ],
   "source": [
    "c = multi2([2, 4, 8], 5) # в качестве аргумента b передаём значение 5, это будет наш множитель\n",
    "print(c)"
   ]
  },
  {
   "cell_type": "code",
   "execution_count": 180,
   "metadata": {},
   "outputs": [
    {
     "name": "stdout",
     "output_type": "stream",
     "text": [
      "6.37037037037037\n"
     ]
    }
   ],
   "source": [
    "c = multi2([2, 4, 8]) # не передаем никакого значения аргумента b, b будет = 2 по дефолту\n",
    "print(c)"
   ]
  },
  {
   "cell_type": "code",
   "execution_count": null,
   "metadata": {},
   "outputs": [],
   "source": []
  }
 ],
 "metadata": {
  "kernelspec": {
   "display_name": "Python 3",
   "language": "python",
   "name": "python3"
  },
  "language_info": {
   "codemirror_mode": {
    "name": "ipython",
    "version": 3
   },
   "file_extension": ".py",
   "mimetype": "text/x-python",
   "name": "python",
   "nbconvert_exporter": "python",
   "pygments_lexer": "ipython3",
   "version": "3.8.3"
  }
 },
 "nbformat": 4,
 "nbformat_minor": 4
}
